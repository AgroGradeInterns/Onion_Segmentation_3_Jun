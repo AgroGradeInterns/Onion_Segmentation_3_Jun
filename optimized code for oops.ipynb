{
 "cells": [
  {
   "cell_type": "code",
   "execution_count": null,
   "id": "547d0de9",
   "metadata": {},
   "outputs": [],
   "source": [
    "import cv2\n",
    "import numpy as np\n",
    "\n",
    "def calculate_mask_areas(segmentation_masks, benchmark_mask):\n",
    "    areas = []\n",
    "    \n",
    "    # Convert benchmark mask to binary\n",
    "    benchmark_mask = cv2.cvtColor(benchmark_mask, cv2.COLOR_BGR2GRAY)\n",
    "    ret, benchmark_mask = cv2.threshold(benchmark_mask, 127, 255, cv2.THRESH_BINARY)\n",
    "    \n",
    "    for mask in segmentation_masks:\n",
    "        # Convert segmentation mask to binary\n",
    "        mask = cv2.cvtColor(mask, cv2.COLOR_BGR2GRAY)\n",
    "        ret, mask = cv2.threshold(mask, 127, 255, cv2.THRESH_BINARY)\n",
    "        \n",
    "        # Calculate the intersection of the current mask with the benchmark mask\n",
    "        intersection = cv2.bitwise_and(benchmark_mask, mask)\n",
    "        \n",
    "        # Calculate the area of the intersection\n",
    "        area = cv2.countNonZero(intersection)\n",
    "        \n",
    "        # Calculate the percentage area of the current mask compared to the benchmark mask\n",
    "        percentage_area = (area / np.count_nonzero(benchmark_mask)) * 100\n",
    "        \n",
    "        areas.append(percentage_area)\n",
    "    \n",
    "    return areas\n"
   ]
  }
 ],
 "metadata": {
  "kernelspec": {
   "display_name": "Python 3",
   "language": "python",
   "name": "python3"
  },
  "language_info": {
   "codemirror_mode": {
    "name": "ipython",
    "version": 3
   },
   "file_extension": ".py",
   "mimetype": "text/x-python",
   "name": "python",
   "nbconvert_exporter": "python",
   "pygments_lexer": "ipython3",
   "version": "3.8.10"
  }
 },
 "nbformat": 4,
 "nbformat_minor": 5
}
